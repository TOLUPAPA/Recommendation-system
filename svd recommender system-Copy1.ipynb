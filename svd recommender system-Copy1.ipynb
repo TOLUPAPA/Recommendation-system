{
 "cells": [
  {
   "cell_type": "code",
   "execution_count": 1,
   "metadata": {},
   "outputs": [],
   "source": [
    "import numpy as np\n",
    "import pandas as pd\n",
    "import matplotlib.pyplot as plt\n",
    "%matplotlib inline"
   ]
  },
  {
   "cell_type": "code",
   "execution_count": 2,
   "metadata": {},
   "outputs": [],
   "source": [
    "df = pd.read_csv('Clothing-Reviews.csv')"
   ]
  },
  {
   "cell_type": "code",
   "execution_count": 3,
   "metadata": {},
   "outputs": [
    {
     "data": {
      "text/html": [
       "<div>\n",
       "<style scoped>\n",
       "    .dataframe tbody tr th:only-of-type {\n",
       "        vertical-align: middle;\n",
       "    }\n",
       "\n",
       "    .dataframe tbody tr th {\n",
       "        vertical-align: top;\n",
       "    }\n",
       "\n",
       "    .dataframe thead th {\n",
       "        text-align: right;\n",
       "    }\n",
       "</style>\n",
       "<table border=\"1\" class=\"dataframe\">\n",
       "  <thead>\n",
       "    <tr style=\"text-align: right;\">\n",
       "      <th></th>\n",
       "      <th>asin</th>\n",
       "      <th>title</th>\n",
       "      <th>review_userId</th>\n",
       "      <th>review_score</th>\n",
       "      <th>review_summary</th>\n",
       "      <th>review_text</th>\n",
       "    </tr>\n",
       "  </thead>\n",
       "  <tbody>\n",
       "    <tr>\n",
       "      <th>0</th>\n",
       "      <td>B004GSI2OS</td>\n",
       "      <td>Featherlite Ladies' Long Sleeve Stain Resistan...</td>\n",
       "      <td>A174NPQZ1EABX1</td>\n",
       "      <td>5</td>\n",
       "      <td>Fundamental of death metal, do not miss</td>\n",
       "      <td>A roaring onslaught of streaming sound, this a...</td>\n",
       "    </tr>\n",
       "    <tr>\n",
       "      <th>1</th>\n",
       "      <td>B004GSI2OS</td>\n",
       "      <td>Featherlite Ladies' Long Sleeve Stain Resistan...</td>\n",
       "      <td>A17ZI8VKZJFOV8</td>\n",
       "      <td>5</td>\n",
       "      <td>Great Classic</td>\n",
       "      <td>One of incantations best recordings. Im a fan ...</td>\n",
       "    </tr>\n",
       "    <tr>\n",
       "      <th>2</th>\n",
       "      <td>B004GSI2OS</td>\n",
       "      <td>Featherlite Ladies' Long Sleeve Stain Resistan...</td>\n",
       "      <td>A2F9LXG1QEJ855</td>\n",
       "      <td>4</td>\n",
       "      <td>Very Original Debut of one of the most striden...</td>\n",
       "      <td>This is an early, and rough-sounding look at t...</td>\n",
       "    </tr>\n",
       "    <tr>\n",
       "      <th>3</th>\n",
       "      <td>B004GSI2OS</td>\n",
       "      <td>Featherlite Ladies' Long Sleeve Stain Resistan...</td>\n",
       "      <td>A2FGXHSHF0OD17</td>\n",
       "      <td>5</td>\n",
       "      <td>No secret here</td>\n",
       "      <td>Whats to say about this album? Quintessential ...</td>\n",
       "    </tr>\n",
       "    <tr>\n",
       "      <th>4</th>\n",
       "      <td>B004GSI2OS</td>\n",
       "      <td>Featherlite Ladies' Long Sleeve Stain Resistan...</td>\n",
       "      <td>A2O2E8BLB7VW1U</td>\n",
       "      <td>5</td>\n",
       "      <td>Brings a smile to my face...</td>\n",
       "      <td>...Whenever i listing to an album by incantati...</td>\n",
       "    </tr>\n",
       "  </tbody>\n",
       "</table>\n",
       "</div>"
      ],
      "text/plain": [
       "         asin                                              title  \\\n",
       "0  B004GSI2OS  Featherlite Ladies' Long Sleeve Stain Resistan...   \n",
       "1  B004GSI2OS  Featherlite Ladies' Long Sleeve Stain Resistan...   \n",
       "2  B004GSI2OS  Featherlite Ladies' Long Sleeve Stain Resistan...   \n",
       "3  B004GSI2OS  Featherlite Ladies' Long Sleeve Stain Resistan...   \n",
       "4  B004GSI2OS  Featherlite Ladies' Long Sleeve Stain Resistan...   \n",
       "\n",
       "    review_userId  review_score  \\\n",
       "0  A174NPQZ1EABX1             5   \n",
       "1  A17ZI8VKZJFOV8             5   \n",
       "2  A2F9LXG1QEJ855             4   \n",
       "3  A2FGXHSHF0OD17             5   \n",
       "4  A2O2E8BLB7VW1U             5   \n",
       "\n",
       "                                      review_summary  \\\n",
       "0            Fundamental of death metal, do not miss   \n",
       "1                                      Great Classic   \n",
       "2  Very Original Debut of one of the most striden...   \n",
       "3                                     No secret here   \n",
       "4                       Brings a smile to my face...   \n",
       "\n",
       "                                         review_text  \n",
       "0  A roaring onslaught of streaming sound, this a...  \n",
       "1  One of incantations best recordings. Im a fan ...  \n",
       "2  This is an early, and rough-sounding look at t...  \n",
       "3  Whats to say about this album? Quintessential ...  \n",
       "4  ...Whenever i listing to an album by incantati...  "
      ]
     },
     "execution_count": 3,
     "metadata": {},
     "output_type": "execute_result"
    }
   ],
   "source": [
    "df.head()"
   ]
  },
  {
   "cell_type": "code",
   "execution_count": 4,
   "metadata": {},
   "outputs": [
    {
     "name": "stdout",
     "output_type": "stream",
     "text": [
      "<class 'pandas.core.frame.DataFrame'>\n",
      "RangeIndex: 50046 entries, 0 to 50045\n",
      "Data columns (total 6 columns):\n",
      " #   Column          Non-Null Count  Dtype \n",
      "---  ------          --------------  ----- \n",
      " 0   asin            50046 non-null  object\n",
      " 1   title           50046 non-null  object\n",
      " 2   review_userId   50046 non-null  object\n",
      " 3   review_score    50046 non-null  int64 \n",
      " 4   review_summary  47154 non-null  object\n",
      " 5   review_text     50046 non-null  object\n",
      "dtypes: int64(1), object(5)\n",
      "memory usage: 2.3+ MB\n"
     ]
    }
   ],
   "source": [
    "df.info()"
   ]
  },
  {
   "cell_type": "code",
   "execution_count": null,
   "metadata": {},
   "outputs": [],
   "source": []
  },
  {
   "cell_type": "code",
   "execution_count": 5,
   "metadata": {},
   "outputs": [],
   "source": [
    "#df =df.drop(['review_summary', 'review_text',], axis=1)"
   ]
  },
  {
   "cell_type": "code",
   "execution_count": 6,
   "metadata": {},
   "outputs": [
    {
     "data": {
      "text/html": [
       "<div>\n",
       "<style scoped>\n",
       "    .dataframe tbody tr th:only-of-type {\n",
       "        vertical-align: middle;\n",
       "    }\n",
       "\n",
       "    .dataframe tbody tr th {\n",
       "        vertical-align: top;\n",
       "    }\n",
       "\n",
       "    .dataframe thead th {\n",
       "        text-align: right;\n",
       "    }\n",
       "</style>\n",
       "<table border=\"1\" class=\"dataframe\">\n",
       "  <thead>\n",
       "    <tr style=\"text-align: right;\">\n",
       "      <th></th>\n",
       "      <th>asin</th>\n",
       "      <th>title</th>\n",
       "      <th>review_userId</th>\n",
       "      <th>review_score</th>\n",
       "      <th>review_summary</th>\n",
       "      <th>review_text</th>\n",
       "    </tr>\n",
       "  </thead>\n",
       "  <tbody>\n",
       "    <tr>\n",
       "      <th>0</th>\n",
       "      <td>B004GSI2OS</td>\n",
       "      <td>Featherlite Ladies' Long Sleeve Stain Resistan...</td>\n",
       "      <td>A174NPQZ1EABX1</td>\n",
       "      <td>5</td>\n",
       "      <td>Fundamental of death metal, do not miss</td>\n",
       "      <td>A roaring onslaught of streaming sound, this a...</td>\n",
       "    </tr>\n",
       "    <tr>\n",
       "      <th>1</th>\n",
       "      <td>B004GSI2OS</td>\n",
       "      <td>Featherlite Ladies' Long Sleeve Stain Resistan...</td>\n",
       "      <td>A17ZI8VKZJFOV8</td>\n",
       "      <td>5</td>\n",
       "      <td>Great Classic</td>\n",
       "      <td>One of incantations best recordings. Im a fan ...</td>\n",
       "    </tr>\n",
       "    <tr>\n",
       "      <th>2</th>\n",
       "      <td>B004GSI2OS</td>\n",
       "      <td>Featherlite Ladies' Long Sleeve Stain Resistan...</td>\n",
       "      <td>A2F9LXG1QEJ855</td>\n",
       "      <td>4</td>\n",
       "      <td>Very Original Debut of one of the most striden...</td>\n",
       "      <td>This is an early, and rough-sounding look at t...</td>\n",
       "    </tr>\n",
       "    <tr>\n",
       "      <th>3</th>\n",
       "      <td>B004GSI2OS</td>\n",
       "      <td>Featherlite Ladies' Long Sleeve Stain Resistan...</td>\n",
       "      <td>A2FGXHSHF0OD17</td>\n",
       "      <td>5</td>\n",
       "      <td>No secret here</td>\n",
       "      <td>Whats to say about this album? Quintessential ...</td>\n",
       "    </tr>\n",
       "    <tr>\n",
       "      <th>4</th>\n",
       "      <td>B004GSI2OS</td>\n",
       "      <td>Featherlite Ladies' Long Sleeve Stain Resistan...</td>\n",
       "      <td>A2O2E8BLB7VW1U</td>\n",
       "      <td>5</td>\n",
       "      <td>Brings a smile to my face...</td>\n",
       "      <td>...Whenever i listing to an album by incantati...</td>\n",
       "    </tr>\n",
       "  </tbody>\n",
       "</table>\n",
       "</div>"
      ],
      "text/plain": [
       "         asin                                              title  \\\n",
       "0  B004GSI2OS  Featherlite Ladies' Long Sleeve Stain Resistan...   \n",
       "1  B004GSI2OS  Featherlite Ladies' Long Sleeve Stain Resistan...   \n",
       "2  B004GSI2OS  Featherlite Ladies' Long Sleeve Stain Resistan...   \n",
       "3  B004GSI2OS  Featherlite Ladies' Long Sleeve Stain Resistan...   \n",
       "4  B004GSI2OS  Featherlite Ladies' Long Sleeve Stain Resistan...   \n",
       "\n",
       "    review_userId  review_score  \\\n",
       "0  A174NPQZ1EABX1             5   \n",
       "1  A17ZI8VKZJFOV8             5   \n",
       "2  A2F9LXG1QEJ855             4   \n",
       "3  A2FGXHSHF0OD17             5   \n",
       "4  A2O2E8BLB7VW1U             5   \n",
       "\n",
       "                                      review_summary  \\\n",
       "0            Fundamental of death metal, do not miss   \n",
       "1                                      Great Classic   \n",
       "2  Very Original Debut of one of the most striden...   \n",
       "3                                     No secret here   \n",
       "4                       Brings a smile to my face...   \n",
       "\n",
       "                                         review_text  \n",
       "0  A roaring onslaught of streaming sound, this a...  \n",
       "1  One of incantations best recordings. Im a fan ...  \n",
       "2  This is an early, and rough-sounding look at t...  \n",
       "3  Whats to say about this album? Quintessential ...  \n",
       "4  ...Whenever i listing to an album by incantati...  "
      ]
     },
     "execution_count": 6,
     "metadata": {},
     "output_type": "execute_result"
    }
   ],
   "source": [
    "df.head()"
   ]
  },
  {
   "cell_type": "code",
   "execution_count": 7,
   "metadata": {},
   "outputs": [],
   "source": [
    "from surprise import Dataset\n",
    "from surprise import Reader\n",
    "reader = Reader(rating_scale=(1, 5))\n",
    "data = Dataset.load_from_df(df[['review_userId', 'asin', 'review_score']], reader)"
   ]
  },
  {
   "cell_type": "code",
   "execution_count": 8,
   "metadata": {},
   "outputs": [
    {
     "name": "stdout",
     "output_type": "stream",
     "text": [
      "Processing epoch 0\n",
      "Processing epoch 1\n",
      "Processing epoch 2\n",
      "Processing epoch 3\n",
      "Processing epoch 4\n",
      "Processing epoch 5\n",
      "Processing epoch 6\n",
      "Processing epoch 7\n",
      "Processing epoch 8\n",
      "Processing epoch 9\n",
      "Processing epoch 0\n",
      "Processing epoch 1\n",
      "Processing epoch 2\n",
      "Processing epoch 3\n",
      "Processing epoch 4\n",
      "Processing epoch 5\n",
      "Processing epoch 6\n",
      "Processing epoch 7\n",
      "Processing epoch 8\n",
      "Processing epoch 9\n",
      "Processing epoch 0\n",
      "Processing epoch 1\n",
      "Processing epoch 2\n",
      "Processing epoch 3\n",
      "Processing epoch 4\n",
      "Processing epoch 5\n",
      "Processing epoch 6\n",
      "Processing epoch 7\n",
      "Processing epoch 8\n",
      "Processing epoch 9\n",
      "Evaluating RMSE, MAE of algorithm SVD on 3 split(s).\n",
      "\n",
      "                  Fold 1  Fold 2  Fold 3  Mean    Std     \n",
      "RMSE (testset)    1.2705  1.2721  1.2607  1.2678  0.0051  \n",
      "MAE (testset)     1.0053  1.0051  0.9965  1.0023  0.0041  \n",
      "Fit time          2.56    2.48    2.61    2.55    0.06    \n",
      "Test time         0.34    0.28    0.37    0.33    0.04    \n"
     ]
    },
    {
     "data": {
      "text/plain": [
       "{'test_rmse': array([1.27052474, 1.27212581, 1.26067118]),\n",
       " 'test_mae': array([1.00530193, 1.00510259, 0.99648178]),\n",
       " 'fit_time': (2.5574228763580322, 2.477360486984253, 2.6147236824035645),\n",
       " 'test_time': (0.338686466217041, 0.27887988090515137, 0.3677024841308594)}"
      ]
     },
     "execution_count": 8,
     "metadata": {},
     "output_type": "execute_result"
    }
   ],
   "source": [
    "from surprise import SVD\n",
    "from surprise.model_selection import cross_validate\n",
    "svd = SVD(verbose=True, n_epochs=10)\n",
    "cross_validate(svd, data, measures=['RMSE', 'MAE'], cv=3, verbose=True)"
   ]
  },
  {
   "cell_type": "code",
   "execution_count": 9,
   "metadata": {},
   "outputs": [
    {
     "name": "stdout",
     "output_type": "stream",
     "text": [
      "Processing epoch 0\n",
      "Processing epoch 1\n",
      "Processing epoch 2\n",
      "Processing epoch 3\n",
      "Processing epoch 4\n",
      "Processing epoch 5\n",
      "Processing epoch 6\n",
      "Processing epoch 7\n",
      "Processing epoch 8\n",
      "Processing epoch 9\n"
     ]
    },
    {
     "data": {
      "text/plain": [
       "<surprise.prediction_algorithms.matrix_factorization.SVD at 0x1d462642f40>"
      ]
     },
     "execution_count": 9,
     "metadata": {},
     "output_type": "execute_result"
    }
   ],
   "source": [
    "trainset = data.build_full_trainset()\n",
    "svd.fit(trainset)"
   ]
  },
  {
   "cell_type": "code",
   "execution_count": 10,
   "metadata": {},
   "outputs": [
    {
     "data": {
      "text/plain": [
       "Prediction(uid=10, iid=100, r_ui=None, est=4.121648083762938, details={'was_impossible': False})"
      ]
     },
     "execution_count": 10,
     "metadata": {},
     "output_type": "execute_result"
    }
   ],
   "source": [
    "svd.predict(uid=10, iid=100)"
   ]
  },
  {
   "cell_type": "code",
   "execution_count": 11,
   "metadata": {},
   "outputs": [],
   "source": [
    "import difflib\n",
    "import random\n",
    "\n",
    "def get_cloth_id(cloth_title, metadata):\n",
    "    \n",
    "    \"\"\"\n",
    "    Gets the cloth ID for a cloth title based on the closest match in the metadata dataframe.\n",
    "    \"\"\"\n",
    "    \n",
    "    existing_titles = list(metadata['title'].values)\n",
    "    closest_titles = difflib.get_close_matches(cloth_title, existing_titles)\n",
    "    cloth_id = metadata[metadata['title'] == closest_titles[0]]['asin'].values[0]\n",
    "    return cloth_id\n",
    "\n",
    "def get_cloth_info(cloth_id, metadata):\n",
    "    \n",
    "    \"\"\"\n",
    "    Returns some basic information about a cloth given the cloth id and the metadata dataframe.\n",
    "    \"\"\"\n",
    "    \n",
    "    cloth_info = metadata[metadata['asin'] == cloth_id][['review_userId','asin','title','review_summary']]\n",
    "    return cloth_info.to_dict(orient='records')\n",
    "\n",
    "def predict_review(user_id, cloth_title, model, metadata):\n",
    "    \n",
    "    \"\"\"\n",
    "    Predicts the review (on a scale of 1-5) that a user would assign to a specific cloth. \n",
    "    \"\"\"\n",
    "    \n",
    "    cloth_id = get_cloth_id(cloth_title, metadata)\n",
    "    review_prediction = model.predict(uid=user_id, iid=cloth_id)\n",
    "    return review_prediction.est\n",
    "\n",
    "def generate_recommendation(user_id, model, metadata, thresh=3):\n",
    "    \n",
    "    \"\"\"\n",
    "    Generates a cloth recommendation for a user based on a rating threshold. Only\n",
    "    cloths with a predicted rating at or above the threshold will be recommended\n",
    "    \"\"\"\n",
    "    \n",
    "    cloth_titles = list(metadata['title'].values)\n",
    "    random.shuffle(cloth_titles)\n",
    "    \n",
    "    for cloth_title in cloth_titles:\n",
    "        rating = predict_review(user_id, cloth_title, model, metadata)\n",
    "        if rating >= thresh:\n",
    "            cloth_id = get_cloth_id(cloth_title, metadata)\n",
    "            return get_cloth_info(cloth_id, metadata)"
   ]
  },
  {
   "cell_type": "code",
   "execution_count": 12,
   "metadata": {},
   "outputs": [
    {
     "data": {
      "text/plain": [
       "[{'review_userId': 'A1JEJEDR7NDZ7C',\n",
       "  'asin': 'B013LMKZRG',\n",
       "  'title': 'Generic Womens Casual Crewneck Long Sleeve Cotton Long T-shirt Tops As picture S',\n",
       "  'review_summary': 'I LOVE it!'}]"
      ]
     },
     "execution_count": 12,
     "metadata": {},
     "output_type": "execute_result"
    }
   ],
   "source": [
    "generate_recommendation(200, svd, df)"
   ]
  }
 ],
 "metadata": {
  "kernelspec": {
   "display_name": "Python 3",
   "language": "python",
   "name": "python3"
  },
  "language_info": {
   "codemirror_mode": {
    "name": "ipython",
    "version": 3
   },
   "file_extension": ".py",
   "mimetype": "text/x-python",
   "name": "python",
   "nbconvert_exporter": "python",
   "pygments_lexer": "ipython3",
   "version": "3.8.5"
  }
 },
 "nbformat": 4,
 "nbformat_minor": 4
}
